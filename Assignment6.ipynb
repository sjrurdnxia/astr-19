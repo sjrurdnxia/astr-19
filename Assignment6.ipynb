{
 "cells": [
  {
   "cell_type": "code",
   "execution_count": 6,
   "id": "e899dbbe-3508-498a-bb42-b299cc3b6e63",
   "metadata": {},
   "outputs": [],
   "source": [
    "#We will add functions for sin(x) and cos(x)"
   ]
  },
  {
   "cell_type": "code",
   "execution_count": 7,
   "id": "4ae9c3b2-c7b6-42ab-aef6-b22c58091a2a",
   "metadata": {},
   "outputs": [],
   "source": [
    "import numpy as np\n",
    "\n",
    "def sine(x):\n",
    "    return np.sin(x)\n",
    "\n",
    "def cosine(x):\n",
    "    return np.cos(x)"
   ]
  },
  {
   "cell_type": "code",
   "execution_count": 8,
   "id": "1267def7-1550-41ec-92c4-6f7f852d7d87",
   "metadata": {},
   "outputs": [],
   "source": [
    "#Function from before "
   ]
  },
  {
   "cell_type": "code",
   "execution_count": 20,
   "id": "ec2c2358-971c-449c-bc7d-67633fa2d7d0",
   "metadata": {},
   "outputs": [],
   "source": [
    "x_values = np.linspace(0, 2 * np.pi, 1000)\n",
    "sin_values = sine(x_values)\n",
    "cos_values = cosine(x_values)\n",
    "\n",
    "tabulated_values = np.column_stack((x_values, sin_values, cos_values))\n"
   ]
  },
  {
   "cell_type": "code",
   "execution_count": 21,
   "id": "abfe6a4c-0d70-41f5-aac4-7cdb1dab1f65",
   "metadata": {},
   "outputs": [
    {
     "name": "stdout",
     "output_type": "stream",
     "text": [
      "x\t\tsin(x)\t\tcos(x)\n",
      "----------------------------------------------\n",
      "0.0000\t\t0.0000\t\t1.0000\n",
      "0.0063\t\t0.0063\t\t1.0000\n",
      "0.0126\t\t0.0126\t\t0.9999\n",
      "0.0189\t\t0.0189\t\t0.9998\n",
      "0.0252\t\t0.0252\t\t0.9997\n",
      "0.0314\t\t0.0314\t\t0.9995\n",
      "0.0377\t\t0.0377\t\t0.9993\n",
      "0.0440\t\t0.0440\t\t0.9990\n",
      "0.0503\t\t0.0503\t\t0.9987\n",
      "0.0566\t\t0.0566\t\t0.9984\n"
     ]
    }
   ],
   "source": [
    "print(\"x\\t\\tsin(x)\\t\\tcos(x)\")\n",
    "print(\"----------------------------------------------\")\n",
    "for i in range(10):\n",
    "    print(f\"{tabulated_values[i,0]:.4f}\\t\\t{tabulated_values[i, 1]:.4f}\\t\\t{tabulated_values[i, 2]:.4f}\")\n"
   ]
  },
  {
   "cell_type": "code",
   "execution_count": null,
   "id": "a0fd4f4c-280e-4a7d-9b0f-7e67dc7a9651",
   "metadata": {},
   "outputs": [],
   "source": []
  },
  {
   "cell_type": "code",
   "execution_count": null,
   "id": "47088456-db0f-4256-925b-6603ffac16f2",
   "metadata": {},
   "outputs": [],
   "source": []
  }
 ],
 "metadata": {
  "kernelspec": {
   "display_name": "Python 3 (ipykernel)",
   "language": "python",
   "name": "python3"
  },
  "language_info": {
   "codemirror_mode": {
    "name": "ipython",
    "version": 3
   },
   "file_extension": ".py",
   "mimetype": "text/x-python",
   "name": "python",
   "nbconvert_exporter": "python",
   "pygments_lexer": "ipython3",
   "version": "3.11.3"
  }
 },
 "nbformat": 4,
 "nbformat_minor": 5
}
